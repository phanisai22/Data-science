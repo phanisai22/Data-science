{
 "cells": [
  {
   "cell_type": "code",
   "execution_count": 1,
   "metadata": {
    "collapsed": true,
    "pycharm": {
     "is_executing": false
    }
   },
   "outputs": [],
   "source": [
    "import numpy as np\n",
    "import matplotlib as plt\n",
    "%matplotlib inline"
   ]
  },
  {
   "cell_type": "code",
   "execution_count": 2,
   "outputs": [],
   "source": [
    "import pandas as pd"
   ],
   "metadata": {
    "collapsed": false,
    "pycharm": {
     "name": "#%%\n",
     "is_executing": false
    }
   }
  },
  {
   "cell_type": "code",
   "execution_count": 3,
   "outputs": [
    {
     "data": {
      "text/plain": "Mon    33\nTue    19\nWed    15\nThu    89\nFri    11\nSat    -5\nSun     9\ndtype: int64"
     },
     "metadata": {},
     "output_type": "execute_result",
     "execution_count": 3
    }
   ],
   "source": [
    "temperature = [33, 19, 15, 89, 11, -5, 9]\n",
    "days = ['Mon','Tue','Wed','Thu','Fri','Sat','Sun']\n",
    "\n",
    "series_from_list = pd.Series(temperature, index=days)\n",
    "series_from_list"
   ],
   "metadata": {
    "collapsed": false,
    "pycharm": {
     "name": "#%%\n",
     "is_executing": false
    }
   }
  },
  {
   "cell_type": "code",
   "execution_count": 4,
   "outputs": [
    {
     "data": {
      "text/plain": "Mon    33\nTue    19\nWed    15\nThu    89\nFri    11\nSat    -5\nSun     9\ndtype: int64"
     },
     "metadata": {},
     "output_type": "execute_result",
     "execution_count": 4
    }
   ],
   "source": [
    "my_dict = {'Mon': 33, 'Tue': 19, 'Wed': 15, 'Thu': 89, 'Fri': 11, 'Sat': -5, 'Sun': 9}\n",
    "\n",
    "series_from_dict = pd.Series(my_dict)\n",
    "series_from_dict"
   ],
   "metadata": {
    "collapsed": false,
    "pycharm": {
     "name": "#%%\n",
     "is_executing": false
    }
   }
  },
  {
   "cell_type": "code",
   "execution_count": 5,
   "outputs": [
    {
     "data": {
      "text/plain": "0      0.000000\n1      0.714286\n2      1.428571\n3      2.142857\n4      2.857143\n5      3.571429\n6      4.285714\n7      5.000000\n8      5.714286\n9      6.428571\n10     7.142857\n11     7.857143\n12     8.571429\n13     9.285714\n14    10.000000\ndtype: float64"
     },
     "metadata": {},
     "output_type": "execute_result",
     "execution_count": 5
    }
   ],
   "source": [
    "my_array = np.linspace(0, 10, 15)\n",
    "\n",
    "series_from_ndarray = pd.Series(my_array)\n",
    "series_from_ndarray"
   ],
   "metadata": {
    "collapsed": false,
    "pycharm": {
     "name": "#%%\n",
     "is_executing": false
    }
   }
  },
  {
   "cell_type": "code",
   "execution_count": 6,
   "outputs": [
    {
     "data": {
      "text/plain": "Mon     66\nTue     38\nWed     30\nThu    178\nFri     22\nSat    -10\nSun     18\ndtype: int64"
     },
     "metadata": {},
     "output_type": "execute_result",
     "execution_count": 6
    }
   ],
   "source": [
    "2*series_from_list\n"
   ],
   "metadata": {
    "collapsed": false,
    "pycharm": {
     "name": "#%%\n",
     "is_executing": false
    }
   }
  },
  {
   "cell_type": "code",
   "execution_count": 7,
   "outputs": [
    {
     "data": {
      "text/plain": "Mon    35\nTue    21\nWed    17\nThu    91\nFri    13\nSat    -3\nSun    11\ndtype: int64"
     },
     "metadata": {},
     "output_type": "execute_result",
     "execution_count": 7
    }
   ],
   "source": [
    "series_from_list+2"
   ],
   "metadata": {
    "collapsed": false,
    "pycharm": {
     "name": "#%%\n",
     "is_executing": false
    }
   }
  },
  {
   "cell_type": "markdown",
   "source": [
    "## DataFrames"
   ],
   "metadata": {
    "collapsed": false,
    "pycharm": {
     "name": "#%% md\n",
     "is_executing": false
    }
   }
  },
  {
   "cell_type": "code",
   "execution_count": 54,
   "outputs": [],
   "source": [
    "iris_data = pd.read_csv('https://raw.githubusercontent.com/mwaskom/seaborn-data/master/iris.csv')\n",
    "# file_url = \"https://www.ibm.com/communities/analytics/watson-analytics-blog/hr-employee-attrition/\"\n",
    "# data = pd.read_excel(io=file_url, sheet_name=0, index_col=\"EmployeeNumber\")\n"
   ],
   "metadata": {
    "collapsed": false,
    "pycharm": {
     "name": "#%%\n",
     "is_executing": false
    }
   }
  },
  {
   "cell_type": "code",
   "execution_count": 11,
   "outputs": [
    {
     "data": {
      "text/plain": "Index(['sepal_length', 'sepal_width', 'petal_length', 'petal_width',\n       'species'],\n      dtype='object')"
     },
     "metadata": {},
     "output_type": "execute_result",
     "execution_count": 11
    }
   ],
   "source": [
    "iris_data.columns"
   ],
   "metadata": {
    "collapsed": false,
    "pycharm": {
     "name": "#%%\n",
     "is_executing": false
    }
   }
  },
  {
   "cell_type": "code",
   "execution_count": 12,
   "outputs": [
    {
     "data": {
      "text/plain": "RangeIndex(start=0, stop=150, step=1)"
     },
     "metadata": {},
     "output_type": "execute_result",
     "execution_count": 12
    }
   ],
   "source": [
    "iris_data.index"
   ],
   "metadata": {
    "collapsed": false,
    "pycharm": {
     "name": "#%%\n",
     "is_executing": false
    }
   }
  },
  {
   "cell_type": "code",
   "execution_count": 13,
   "outputs": [
    {
     "data": {
      "text/plain": "array([[5.1, 3.5, 1.4, 0.2, 'setosa'],\n       [4.9, 3.0, 1.4, 0.2, 'setosa'],\n       [4.7, 3.2, 1.3, 0.2, 'setosa'],\n       [4.6, 3.1, 1.5, 0.2, 'setosa'],\n       [5.0, 3.6, 1.4, 0.2, 'setosa'],\n       [5.4, 3.9, 1.7, 0.4, 'setosa'],\n       [4.6, 3.4, 1.4, 0.3, 'setosa'],\n       [5.0, 3.4, 1.5, 0.2, 'setosa'],\n       [4.4, 2.9, 1.4, 0.2, 'setosa'],\n       [4.9, 3.1, 1.5, 0.1, 'setosa'],\n       [5.4, 3.7, 1.5, 0.2, 'setosa'],\n       [4.8, 3.4, 1.6, 0.2, 'setosa'],\n       [4.8, 3.0, 1.4, 0.1, 'setosa'],\n       [4.3, 3.0, 1.1, 0.1, 'setosa'],\n       [5.8, 4.0, 1.2, 0.2, 'setosa'],\n       [5.7, 4.4, 1.5, 0.4, 'setosa'],\n       [5.4, 3.9, 1.3, 0.4, 'setosa'],\n       [5.1, 3.5, 1.4, 0.3, 'setosa'],\n       [5.7, 3.8, 1.7, 0.3, 'setosa'],\n       [5.1, 3.8, 1.5, 0.3, 'setosa'],\n       [5.4, 3.4, 1.7, 0.2, 'setosa'],\n       [5.1, 3.7, 1.5, 0.4, 'setosa'],\n       [4.6, 3.6, 1.0, 0.2, 'setosa'],\n       [5.1, 3.3, 1.7, 0.5, 'setosa'],\n       [4.8, 3.4, 1.9, 0.2, 'setosa'],\n       [5.0, 3.0, 1.6, 0.2, 'setosa'],\n       [5.0, 3.4, 1.6, 0.4, 'setosa'],\n       [5.2, 3.5, 1.5, 0.2, 'setosa'],\n       [5.2, 3.4, 1.4, 0.2, 'setosa'],\n       [4.7, 3.2, 1.6, 0.2, 'setosa'],\n       [4.8, 3.1, 1.6, 0.2, 'setosa'],\n       [5.4, 3.4, 1.5, 0.4, 'setosa'],\n       [5.2, 4.1, 1.5, 0.1, 'setosa'],\n       [5.5, 4.2, 1.4, 0.2, 'setosa'],\n       [4.9, 3.1, 1.5, 0.2, 'setosa'],\n       [5.0, 3.2, 1.2, 0.2, 'setosa'],\n       [5.5, 3.5, 1.3, 0.2, 'setosa'],\n       [4.9, 3.6, 1.4, 0.1, 'setosa'],\n       [4.4, 3.0, 1.3, 0.2, 'setosa'],\n       [5.1, 3.4, 1.5, 0.2, 'setosa'],\n       [5.0, 3.5, 1.3, 0.3, 'setosa'],\n       [4.5, 2.3, 1.3, 0.3, 'setosa'],\n       [4.4, 3.2, 1.3, 0.2, 'setosa'],\n       [5.0, 3.5, 1.6, 0.6, 'setosa'],\n       [5.1, 3.8, 1.9, 0.4, 'setosa'],\n       [4.8, 3.0, 1.4, 0.3, 'setosa'],\n       [5.1, 3.8, 1.6, 0.2, 'setosa'],\n       [4.6, 3.2, 1.4, 0.2, 'setosa'],\n       [5.3, 3.7, 1.5, 0.2, 'setosa'],\n       [5.0, 3.3, 1.4, 0.2, 'setosa'],\n       [7.0, 3.2, 4.7, 1.4, 'versicolor'],\n       [6.4, 3.2, 4.5, 1.5, 'versicolor'],\n       [6.9, 3.1, 4.9, 1.5, 'versicolor'],\n       [5.5, 2.3, 4.0, 1.3, 'versicolor'],\n       [6.5, 2.8, 4.6, 1.5, 'versicolor'],\n       [5.7, 2.8, 4.5, 1.3, 'versicolor'],\n       [6.3, 3.3, 4.7, 1.6, 'versicolor'],\n       [4.9, 2.4, 3.3, 1.0, 'versicolor'],\n       [6.6, 2.9, 4.6, 1.3, 'versicolor'],\n       [5.2, 2.7, 3.9, 1.4, 'versicolor'],\n       [5.0, 2.0, 3.5, 1.0, 'versicolor'],\n       [5.9, 3.0, 4.2, 1.5, 'versicolor'],\n       [6.0, 2.2, 4.0, 1.0, 'versicolor'],\n       [6.1, 2.9, 4.7, 1.4, 'versicolor'],\n       [5.6, 2.9, 3.6, 1.3, 'versicolor'],\n       [6.7, 3.1, 4.4, 1.4, 'versicolor'],\n       [5.6, 3.0, 4.5, 1.5, 'versicolor'],\n       [5.8, 2.7, 4.1, 1.0, 'versicolor'],\n       [6.2, 2.2, 4.5, 1.5, 'versicolor'],\n       [5.6, 2.5, 3.9, 1.1, 'versicolor'],\n       [5.9, 3.2, 4.8, 1.8, 'versicolor'],\n       [6.1, 2.8, 4.0, 1.3, 'versicolor'],\n       [6.3, 2.5, 4.9, 1.5, 'versicolor'],\n       [6.1, 2.8, 4.7, 1.2, 'versicolor'],\n       [6.4, 2.9, 4.3, 1.3, 'versicolor'],\n       [6.6, 3.0, 4.4, 1.4, 'versicolor'],\n       [6.8, 2.8, 4.8, 1.4, 'versicolor'],\n       [6.7, 3.0, 5.0, 1.7, 'versicolor'],\n       [6.0, 2.9, 4.5, 1.5, 'versicolor'],\n       [5.7, 2.6, 3.5, 1.0, 'versicolor'],\n       [5.5, 2.4, 3.8, 1.1, 'versicolor'],\n       [5.5, 2.4, 3.7, 1.0, 'versicolor'],\n       [5.8, 2.7, 3.9, 1.2, 'versicolor'],\n       [6.0, 2.7, 5.1, 1.6, 'versicolor'],\n       [5.4, 3.0, 4.5, 1.5, 'versicolor'],\n       [6.0, 3.4, 4.5, 1.6, 'versicolor'],\n       [6.7, 3.1, 4.7, 1.5, 'versicolor'],\n       [6.3, 2.3, 4.4, 1.3, 'versicolor'],\n       [5.6, 3.0, 4.1, 1.3, 'versicolor'],\n       [5.5, 2.5, 4.0, 1.3, 'versicolor'],\n       [5.5, 2.6, 4.4, 1.2, 'versicolor'],\n       [6.1, 3.0, 4.6, 1.4, 'versicolor'],\n       [5.8, 2.6, 4.0, 1.2, 'versicolor'],\n       [5.0, 2.3, 3.3, 1.0, 'versicolor'],\n       [5.6, 2.7, 4.2, 1.3, 'versicolor'],\n       [5.7, 3.0, 4.2, 1.2, 'versicolor'],\n       [5.7, 2.9, 4.2, 1.3, 'versicolor'],\n       [6.2, 2.9, 4.3, 1.3, 'versicolor'],\n       [5.1, 2.5, 3.0, 1.1, 'versicolor'],\n       [5.7, 2.8, 4.1, 1.3, 'versicolor'],\n       [6.3, 3.3, 6.0, 2.5, 'virginica'],\n       [5.8, 2.7, 5.1, 1.9, 'virginica'],\n       [7.1, 3.0, 5.9, 2.1, 'virginica'],\n       [6.3, 2.9, 5.6, 1.8, 'virginica'],\n       [6.5, 3.0, 5.8, 2.2, 'virginica'],\n       [7.6, 3.0, 6.6, 2.1, 'virginica'],\n       [4.9, 2.5, 4.5, 1.7, 'virginica'],\n       [7.3, 2.9, 6.3, 1.8, 'virginica'],\n       [6.7, 2.5, 5.8, 1.8, 'virginica'],\n       [7.2, 3.6, 6.1, 2.5, 'virginica'],\n       [6.5, 3.2, 5.1, 2.0, 'virginica'],\n       [6.4, 2.7, 5.3, 1.9, 'virginica'],\n       [6.8, 3.0, 5.5, 2.1, 'virginica'],\n       [5.7, 2.5, 5.0, 2.0, 'virginica'],\n       [5.8, 2.8, 5.1, 2.4, 'virginica'],\n       [6.4, 3.2, 5.3, 2.3, 'virginica'],\n       [6.5, 3.0, 5.5, 1.8, 'virginica'],\n       [7.7, 3.8, 6.7, 2.2, 'virginica'],\n       [7.7, 2.6, 6.9, 2.3, 'virginica'],\n       [6.0, 2.2, 5.0, 1.5, 'virginica'],\n       [6.9, 3.2, 5.7, 2.3, 'virginica'],\n       [5.6, 2.8, 4.9, 2.0, 'virginica'],\n       [7.7, 2.8, 6.7, 2.0, 'virginica'],\n       [6.3, 2.7, 4.9, 1.8, 'virginica'],\n       [6.7, 3.3, 5.7, 2.1, 'virginica'],\n       [7.2, 3.2, 6.0, 1.8, 'virginica'],\n       [6.2, 2.8, 4.8, 1.8, 'virginica'],\n       [6.1, 3.0, 4.9, 1.8, 'virginica'],\n       [6.4, 2.8, 5.6, 2.1, 'virginica'],\n       [7.2, 3.0, 5.8, 1.6, 'virginica'],\n       [7.4, 2.8, 6.1, 1.9, 'virginica'],\n       [7.9, 3.8, 6.4, 2.0, 'virginica'],\n       [6.4, 2.8, 5.6, 2.2, 'virginica'],\n       [6.3, 2.8, 5.1, 1.5, 'virginica'],\n       [6.1, 2.6, 5.6, 1.4, 'virginica'],\n       [7.7, 3.0, 6.1, 2.3, 'virginica'],\n       [6.3, 3.4, 5.6, 2.4, 'virginica'],\n       [6.4, 3.1, 5.5, 1.8, 'virginica'],\n       [6.0, 3.0, 4.8, 1.8, 'virginica'],\n       [6.9, 3.1, 5.4, 2.1, 'virginica'],\n       [6.7, 3.1, 5.6, 2.4, 'virginica'],\n       [6.9, 3.1, 5.1, 2.3, 'virginica'],\n       [5.8, 2.7, 5.1, 1.9, 'virginica'],\n       [6.8, 3.2, 5.9, 2.3, 'virginica'],\n       [6.7, 3.3, 5.7, 2.5, 'virginica'],\n       [6.7, 3.0, 5.2, 2.3, 'virginica'],\n       [6.3, 2.5, 5.0, 1.9, 'virginica'],\n       [6.5, 3.0, 5.2, 2.0, 'virginica'],\n       [6.2, 3.4, 5.4, 2.3, 'virginica'],\n       [5.9, 3.0, 5.1, 1.8, 'virginica']], dtype=object)"
     },
     "metadata": {},
     "output_type": "execute_result",
     "execution_count": 13
    }
   ],
   "source": [
    "iris_data.values"
   ],
   "metadata": {
    "collapsed": false,
    "pycharm": {
     "name": "#%%\n",
     "is_executing": false
    }
   }
  },
  {
   "cell_type": "code",
   "execution_count": 14,
   "outputs": [
    {
     "data": {
      "text/plain": "   sepal_length  sepal_width  petal_length  petal_width species\n0           5.1          3.5           1.4          0.2  setosa\n1           4.9          3.0           1.4          0.2  setosa\n2           4.7          3.2           1.3          0.2  setosa\n3           4.6          3.1           1.5          0.2  setosa\n4           5.0          3.6           1.4          0.2  setosa",
      "text/html": "<div>\n<style scoped>\n    .dataframe tbody tr th:only-of-type {\n        vertical-align: middle;\n    }\n\n    .dataframe tbody tr th {\n        vertical-align: top;\n    }\n\n    .dataframe thead th {\n        text-align: right;\n    }\n</style>\n<table border=\"1\" class=\"dataframe\">\n  <thead>\n    <tr style=\"text-align: right;\">\n      <th></th>\n      <th>sepal_length</th>\n      <th>sepal_width</th>\n      <th>petal_length</th>\n      <th>petal_width</th>\n      <th>species</th>\n    </tr>\n  </thead>\n  <tbody>\n    <tr>\n      <th>0</th>\n      <td>5.1</td>\n      <td>3.5</td>\n      <td>1.4</td>\n      <td>0.2</td>\n      <td>setosa</td>\n    </tr>\n    <tr>\n      <th>1</th>\n      <td>4.9</td>\n      <td>3.0</td>\n      <td>1.4</td>\n      <td>0.2</td>\n      <td>setosa</td>\n    </tr>\n    <tr>\n      <th>2</th>\n      <td>4.7</td>\n      <td>3.2</td>\n      <td>1.3</td>\n      <td>0.2</td>\n      <td>setosa</td>\n    </tr>\n    <tr>\n      <th>3</th>\n      <td>4.6</td>\n      <td>3.1</td>\n      <td>1.5</td>\n      <td>0.2</td>\n      <td>setosa</td>\n    </tr>\n    <tr>\n      <th>4</th>\n      <td>5.0</td>\n      <td>3.6</td>\n      <td>1.4</td>\n      <td>0.2</td>\n      <td>setosa</td>\n    </tr>\n  </tbody>\n</table>\n</div>"
     },
     "metadata": {},
     "output_type": "execute_result",
     "execution_count": 14
    }
   ],
   "source": [
    "iris_data.head()"
   ],
   "metadata": {
    "collapsed": false,
    "pycharm": {
     "name": "#%%\n",
     "is_executing": false
    }
   }
  },
  {
   "cell_type": "code",
   "execution_count": 15,
   "outputs": [
    {
     "data": {
      "text/plain": "     sepal_length  sepal_width  petal_length  petal_width    species\n145           6.7          3.0           5.2          2.3  virginica\n146           6.3          2.5           5.0          1.9  virginica\n147           6.5          3.0           5.2          2.0  virginica\n148           6.2          3.4           5.4          2.3  virginica\n149           5.9          3.0           5.1          1.8  virginica",
      "text/html": "<div>\n<style scoped>\n    .dataframe tbody tr th:only-of-type {\n        vertical-align: middle;\n    }\n\n    .dataframe tbody tr th {\n        vertical-align: top;\n    }\n\n    .dataframe thead th {\n        text-align: right;\n    }\n</style>\n<table border=\"1\" class=\"dataframe\">\n  <thead>\n    <tr style=\"text-align: right;\">\n      <th></th>\n      <th>sepal_length</th>\n      <th>sepal_width</th>\n      <th>petal_length</th>\n      <th>petal_width</th>\n      <th>species</th>\n    </tr>\n  </thead>\n  <tbody>\n    <tr>\n      <th>145</th>\n      <td>6.7</td>\n      <td>3.0</td>\n      <td>5.2</td>\n      <td>2.3</td>\n      <td>virginica</td>\n    </tr>\n    <tr>\n      <th>146</th>\n      <td>6.3</td>\n      <td>2.5</td>\n      <td>5.0</td>\n      <td>1.9</td>\n      <td>virginica</td>\n    </tr>\n    <tr>\n      <th>147</th>\n      <td>6.5</td>\n      <td>3.0</td>\n      <td>5.2</td>\n      <td>2.0</td>\n      <td>virginica</td>\n    </tr>\n    <tr>\n      <th>148</th>\n      <td>6.2</td>\n      <td>3.4</td>\n      <td>5.4</td>\n      <td>2.3</td>\n      <td>virginica</td>\n    </tr>\n    <tr>\n      <th>149</th>\n      <td>5.9</td>\n      <td>3.0</td>\n      <td>5.1</td>\n      <td>1.8</td>\n      <td>virginica</td>\n    </tr>\n  </tbody>\n</table>\n</div>"
     },
     "metadata": {},
     "output_type": "execute_result",
     "execution_count": 15
    }
   ],
   "source": [
    "iris_data.tail()"
   ],
   "metadata": {
    "collapsed": false,
    "pycharm": {
     "name": "#%%\n",
     "is_executing": false
    }
   }
  },
  {
   "cell_type": "code",
   "execution_count": 19,
   "outputs": [
    {
     "data": {
      "text/plain": "0    setosa\n1    setosa\n2    setosa\n3    setosa\n4    setosa\nName: species, dtype: object"
     },
     "metadata": {},
     "output_type": "execute_result",
     "execution_count": 19
    }
   ],
   "source": [
    "iris_data[\"species\"].head()"
   ],
   "metadata": {
    "collapsed": false,
    "pycharm": {
     "name": "#%%\n",
     "is_executing": false
    }
   }
  },
  {
   "cell_type": "code",
   "execution_count": 20,
   "outputs": [
    {
     "data": {
      "text/plain": "   sepal_length  sepal_width\n0           5.1          3.5\n1           4.9          3.0\n2           4.7          3.2\n3           4.6          3.1\n4           5.0          3.6",
      "text/html": "<div>\n<style scoped>\n    .dataframe tbody tr th:only-of-type {\n        vertical-align: middle;\n    }\n\n    .dataframe tbody tr th {\n        vertical-align: top;\n    }\n\n    .dataframe thead th {\n        text-align: right;\n    }\n</style>\n<table border=\"1\" class=\"dataframe\">\n  <thead>\n    <tr style=\"text-align: right;\">\n      <th></th>\n      <th>sepal_length</th>\n      <th>sepal_width</th>\n    </tr>\n  </thead>\n  <tbody>\n    <tr>\n      <th>0</th>\n      <td>5.1</td>\n      <td>3.5</td>\n    </tr>\n    <tr>\n      <th>1</th>\n      <td>4.9</td>\n      <td>3.0</td>\n    </tr>\n    <tr>\n      <th>2</th>\n      <td>4.7</td>\n      <td>3.2</td>\n    </tr>\n    <tr>\n      <th>3</th>\n      <td>4.6</td>\n      <td>3.1</td>\n    </tr>\n    <tr>\n      <th>4</th>\n      <td>5.0</td>\n      <td>3.6</td>\n    </tr>\n  </tbody>\n</table>\n</div>"
     },
     "metadata": {},
     "output_type": "execute_result",
     "execution_count": 20
    }
   ],
   "source": [
    "iris_data[[\"sepal_length\", \"sepal_width\"]].head()"
   ],
   "metadata": {
    "collapsed": false,
    "pycharm": {
     "name": "#%%\n",
     "is_executing": false
    }
   }
  },
  {
   "cell_type": "code",
   "execution_count": 28,
   "outputs": [
    {
     "data": {
      "text/plain": "   sepal_length  sepal_width  petal_length  petal_width species   Temp\n0           5.1          3.5           1.4          0.2  setosa  112.2\n1           4.9          3.0           1.4          0.2  setosa  107.8\n2           4.7          3.2           1.3          0.2  setosa  103.4\n3           4.6          3.1           1.5          0.2  setosa  101.2\n4           5.0          3.6           1.4          0.2  setosa  110.0",
      "text/html": "<div>\n<style scoped>\n    .dataframe tbody tr th:only-of-type {\n        vertical-align: middle;\n    }\n\n    .dataframe tbody tr th {\n        vertical-align: top;\n    }\n\n    .dataframe thead th {\n        text-align: right;\n    }\n</style>\n<table border=\"1\" class=\"dataframe\">\n  <thead>\n    <tr style=\"text-align: right;\">\n      <th></th>\n      <th>sepal_length</th>\n      <th>sepal_width</th>\n      <th>petal_length</th>\n      <th>petal_width</th>\n      <th>species</th>\n      <th>Temp</th>\n    </tr>\n  </thead>\n  <tbody>\n    <tr>\n      <th>0</th>\n      <td>5.1</td>\n      <td>3.5</td>\n      <td>1.4</td>\n      <td>0.2</td>\n      <td>setosa</td>\n      <td>112.2</td>\n    </tr>\n    <tr>\n      <th>1</th>\n      <td>4.9</td>\n      <td>3.0</td>\n      <td>1.4</td>\n      <td>0.2</td>\n      <td>setosa</td>\n      <td>107.8</td>\n    </tr>\n    <tr>\n      <th>2</th>\n      <td>4.7</td>\n      <td>3.2</td>\n      <td>1.3</td>\n      <td>0.2</td>\n      <td>setosa</td>\n      <td>103.4</td>\n    </tr>\n    <tr>\n      <th>3</th>\n      <td>4.6</td>\n      <td>3.1</td>\n      <td>1.5</td>\n      <td>0.2</td>\n      <td>setosa</td>\n      <td>101.2</td>\n    </tr>\n    <tr>\n      <th>4</th>\n      <td>5.0</td>\n      <td>3.6</td>\n      <td>1.4</td>\n      <td>0.2</td>\n      <td>setosa</td>\n      <td>110.0</td>\n    </tr>\n  </tbody>\n</table>\n</div>"
     },
     "metadata": {},
     "output_type": "execute_result",
     "execution_count": 28
    }
   ],
   "source": [
    "iris_data[\"Temp\"] = 22*iris_data[\"sepal_length\"]\n",
    "iris_data.head()"
   ],
   "metadata": {
    "collapsed": false,
    "pycharm": {
     "name": "#%%\n",
     "is_executing": false
    }
   }
  },
  {
   "cell_type": "code",
   "execution_count": 24,
   "outputs": [
    {
     "data": {
      "text/plain": "   sepal_length  sepal_width  petal_length  petal_width species\n0           5.1          3.5           1.4          0.2  setosa\n1           4.9          3.0           1.4          0.2  setosa\n2           4.7          3.2           1.3          0.2  setosa\n3           4.6          3.1           1.5          0.2  setosa\n4           5.0          3.6           1.4          0.2  setosa",
      "text/html": "<div>\n<style scoped>\n    .dataframe tbody tr th:only-of-type {\n        vertical-align: middle;\n    }\n\n    .dataframe tbody tr th {\n        vertical-align: top;\n    }\n\n    .dataframe thead th {\n        text-align: right;\n    }\n</style>\n<table border=\"1\" class=\"dataframe\">\n  <thead>\n    <tr style=\"text-align: right;\">\n      <th></th>\n      <th>sepal_length</th>\n      <th>sepal_width</th>\n      <th>petal_length</th>\n      <th>petal_width</th>\n      <th>species</th>\n    </tr>\n  </thead>\n  <tbody>\n    <tr>\n      <th>0</th>\n      <td>5.1</td>\n      <td>3.5</td>\n      <td>1.4</td>\n      <td>0.2</td>\n      <td>setosa</td>\n    </tr>\n    <tr>\n      <th>1</th>\n      <td>4.9</td>\n      <td>3.0</td>\n      <td>1.4</td>\n      <td>0.2</td>\n      <td>setosa</td>\n    </tr>\n    <tr>\n      <th>2</th>\n      <td>4.7</td>\n      <td>3.2</td>\n      <td>1.3</td>\n      <td>0.2</td>\n      <td>setosa</td>\n    </tr>\n    <tr>\n      <th>3</th>\n      <td>4.6</td>\n      <td>3.1</td>\n      <td>1.5</td>\n      <td>0.2</td>\n      <td>setosa</td>\n    </tr>\n    <tr>\n      <th>4</th>\n      <td>5.0</td>\n      <td>3.6</td>\n      <td>1.4</td>\n      <td>0.2</td>\n      <td>setosa</td>\n    </tr>\n  </tbody>\n</table>\n</div>"
     },
     "metadata": {},
     "output_type": "execute_result",
     "execution_count": 24
    }
   ],
   "source": [
    "del iris_data[\"Temp\"]\n",
    "iris_data.head()"
   ],
   "metadata": {
    "collapsed": false,
    "pycharm": {
     "name": "#%%\n",
     "is_executing": false
    }
   }
  },
  {
   "cell_type": "code",
   "execution_count": 29,
   "outputs": [
    {
     "data": {
      "text/plain": "   sepal_length  sepal_width  petal_length  petal_width species\n0           5.1          3.5           1.4          0.2  setosa\n1           4.9          3.0           1.4          0.2  setosa\n2           4.7          3.2           1.3          0.2  setosa\n3           4.6          3.1           1.5          0.2  setosa\n4           5.0          3.6           1.4          0.2  setosa",
      "text/html": "<div>\n<style scoped>\n    .dataframe tbody tr th:only-of-type {\n        vertical-align: middle;\n    }\n\n    .dataframe tbody tr th {\n        vertical-align: top;\n    }\n\n    .dataframe thead th {\n        text-align: right;\n    }\n</style>\n<table border=\"1\" class=\"dataframe\">\n  <thead>\n    <tr style=\"text-align: right;\">\n      <th></th>\n      <th>sepal_length</th>\n      <th>sepal_width</th>\n      <th>petal_length</th>\n      <th>petal_width</th>\n      <th>species</th>\n    </tr>\n  </thead>\n  <tbody>\n    <tr>\n      <th>0</th>\n      <td>5.1</td>\n      <td>3.5</td>\n      <td>1.4</td>\n      <td>0.2</td>\n      <td>setosa</td>\n    </tr>\n    <tr>\n      <th>1</th>\n      <td>4.9</td>\n      <td>3.0</td>\n      <td>1.4</td>\n      <td>0.2</td>\n      <td>setosa</td>\n    </tr>\n    <tr>\n      <th>2</th>\n      <td>4.7</td>\n      <td>3.2</td>\n      <td>1.3</td>\n      <td>0.2</td>\n      <td>setosa</td>\n    </tr>\n    <tr>\n      <th>3</th>\n      <td>4.6</td>\n      <td>3.1</td>\n      <td>1.5</td>\n      <td>0.2</td>\n      <td>setosa</td>\n    </tr>\n    <tr>\n      <th>4</th>\n      <td>5.0</td>\n      <td>3.6</td>\n      <td>1.4</td>\n      <td>0.2</td>\n      <td>setosa</td>\n    </tr>\n  </tbody>\n</table>\n</div>"
     },
     "metadata": {},
     "output_type": "execute_result",
     "execution_count": 29
    }
   ],
   "source": [
    "iris_data.drop(\"Temp\", inplace=True, axis=1)\n",
    "iris_data.head()"
   ],
   "metadata": {
    "collapsed": false,
    "pycharm": {
     "name": "#%%\n",
     "is_executing": false
    }
   }
  },
  {
   "cell_type": "code",
   "execution_count": 30,
   "outputs": [
    {
     "data": {
      "text/plain": "10    0.2\n11    0.2\n12    0.1\n13    0.1\n14    0.2\nName: petal_width, dtype: float64"
     },
     "metadata": {},
     "output_type": "execute_result",
     "execution_count": 30
    }
   ],
   "source": [
    "iris_data[\"petal_width\"][10:15]"
   ],
   "metadata": {
    "collapsed": false,
    "pycharm": {
     "name": "#%%\n",
     "is_executing": false
    }
   }
  },
  {
   "cell_type": "code",
   "execution_count": 31,
   "outputs": [
    {
     "data": {
      "text/plain": "    sepal_length  sepal_width  petal_length  petal_width species\n10           5.4          3.7           1.5          0.2  setosa\n11           4.8          3.4           1.6          0.2  setosa\n12           4.8          3.0           1.4          0.1  setosa\n13           4.3          3.0           1.1          0.1  setosa\n14           5.8          4.0           1.2          0.2  setosa",
      "text/html": "<div>\n<style scoped>\n    .dataframe tbody tr th:only-of-type {\n        vertical-align: middle;\n    }\n\n    .dataframe tbody tr th {\n        vertical-align: top;\n    }\n\n    .dataframe thead th {\n        text-align: right;\n    }\n</style>\n<table border=\"1\" class=\"dataframe\">\n  <thead>\n    <tr style=\"text-align: right;\">\n      <th></th>\n      <th>sepal_length</th>\n      <th>sepal_width</th>\n      <th>petal_length</th>\n      <th>petal_width</th>\n      <th>species</th>\n    </tr>\n  </thead>\n  <tbody>\n    <tr>\n      <th>10</th>\n      <td>5.4</td>\n      <td>3.7</td>\n      <td>1.5</td>\n      <td>0.2</td>\n      <td>setosa</td>\n    </tr>\n    <tr>\n      <th>11</th>\n      <td>4.8</td>\n      <td>3.4</td>\n      <td>1.6</td>\n      <td>0.2</td>\n      <td>setosa</td>\n    </tr>\n    <tr>\n      <th>12</th>\n      <td>4.8</td>\n      <td>3.0</td>\n      <td>1.4</td>\n      <td>0.1</td>\n      <td>setosa</td>\n    </tr>\n    <tr>\n      <th>13</th>\n      <td>4.3</td>\n      <td>3.0</td>\n      <td>1.1</td>\n      <td>0.1</td>\n      <td>setosa</td>\n    </tr>\n    <tr>\n      <th>14</th>\n      <td>5.8</td>\n      <td>4.0</td>\n      <td>1.2</td>\n      <td>0.2</td>\n      <td>setosa</td>\n    </tr>\n  </tbody>\n</table>\n</div>"
     },
     "metadata": {},
     "output_type": "execute_result",
     "execution_count": 31
    }
   ],
   "source": [
    "iris_data[10:15]"
   ],
   "metadata": {
    "collapsed": false,
    "pycharm": {
     "name": "#%%\n",
     "is_executing": false
    }
   }
  },
  {
   "cell_type": "code",
   "execution_count": 33,
   "outputs": [
    {
     "data": {
      "text/plain": "9     setosa\n23    setosa\n22    setosa\n45    setosa\n0     setosa\nName: species, dtype: object"
     },
     "metadata": {},
     "output_type": "execute_result",
     "execution_count": 33
    }
   ],
   "source": [
    "selected_values = [9, 23, 22, 45, 0]\n",
    "iris_data['species'].loc[selected_values]"
   ],
   "metadata": {
    "collapsed": false,
    "pycharm": {
     "name": "#%%\n",
     "is_executing": false
    }
   }
  },
  {
   "cell_type": "code",
   "execution_count": 34,
   "outputs": [
    {
     "data": {
      "text/plain": "0.2"
     },
     "metadata": {},
     "output_type": "execute_result",
     "execution_count": 34
    }
   ],
   "source": [
    "iris_data.loc[22, \"petal_width\"]"
   ],
   "metadata": {
    "collapsed": false,
    "pycharm": {
     "name": "#%%\n",
     "is_executing": false
    }
   }
  },
  {
   "cell_type": "code",
   "execution_count": 36,
   "outputs": [
    {
     "data": {
      "text/plain": "setosa        50\nvirginica     50\nversicolor    50\nName: species, dtype: int64"
     },
     "metadata": {},
     "output_type": "execute_result",
     "execution_count": 36
    }
   ],
   "source": [
    "iris_data[\"species\"].value_counts()"
   ],
   "metadata": {
    "collapsed": false,
    "pycharm": {
     "name": "#%%\n",
     "is_executing": false
    }
   }
  },
  {
   "cell_type": "code",
   "execution_count": 37,
   "outputs": [
    {
     "data": {
      "text/plain": "setosa        0.333333\nvirginica     0.333333\nversicolor    0.333333\nName: species, dtype: float64"
     },
     "metadata": {},
     "output_type": "execute_result",
     "execution_count": 37
    }
   ],
   "source": [
    "iris_data[\"species\"].value_counts(normalize=True)"
   ],
   "metadata": {
    "collapsed": false,
    "pycharm": {
     "name": "#%%\n",
     "is_executing": false
    }
   }
  },
  {
   "cell_type": "code",
   "execution_count": 38,
   "outputs": [
    {
     "data": {
      "text/plain": "5.843333333333334"
     },
     "metadata": {},
     "output_type": "execute_result",
     "execution_count": 38
    }
   ],
   "source": [
    "iris_data[\"sepal_length\"].mean()"
   ],
   "metadata": {
    "collapsed": false,
    "pycharm": {
     "name": "#%%\n",
     "is_executing": false
    }
   }
  },
  {
   "cell_type": "code",
   "execution_count": 39,
   "outputs": [
    {
     "data": {
      "text/plain": "count    150.000000\nmean       3.758000\nstd        1.765298\nmin        1.000000\n25%        1.600000\n50%        4.350000\n75%        5.100000\nmax        6.900000\nName: petal_length, dtype: float64"
     },
     "metadata": {},
     "output_type": "execute_result",
     "execution_count": 39
    }
   ],
   "source": [
    "iris_data[\"petal_length\"].describe()"
   ],
   "metadata": {
    "collapsed": false,
    "pycharm": {
     "name": "#%%\n",
     "is_executing": false
    }
   }
  },
  {
   "cell_type": "code",
   "execution_count": 44,
   "outputs": [
    {
     "data": {
      "text/plain": "15    4.4\n33    4.2\n32    4.1\n14    4.0\n16    3.9\nName: sepal_width, dtype: float64"
     },
     "metadata": {},
     "output_type": "execute_result",
     "execution_count": 44
    }
   ],
   "source": [
    "# iris_data[\"sepal_width\"].sort_values().tail(5)\n",
    "iris_data[\"sepal_width\"].sort_values(ascending=False).head()"
   ],
   "metadata": {
    "collapsed": false,
    "pycharm": {
     "name": "#%%\n",
     "is_executing": false
    }
   }
  },
  {
   "cell_type": "code",
   "execution_count": 45,
   "outputs": [
    {
     "data": {
      "text/plain": "Int64Index([15, 33, 32, 14, 16], dtype='int64')"
     },
     "metadata": {},
     "output_type": "execute_result",
     "execution_count": 45
    }
   ],
   "source": [
    "iris_data[\"sepal_width\"].sort_values(ascending=False).head().index"
   ],
   "metadata": {
    "collapsed": false,
    "pycharm": {
     "name": "#%%\n",
     "is_executing": false
    }
   }
  },
  {
   "cell_type": "code",
   "execution_count": 55,
   "outputs": [
    {
     "data": {
      "text/plain": "setosa        50\nvirginica     50\nversicolor    50\nName: species, dtype: int64"
     },
     "metadata": {},
     "output_type": "execute_result",
     "execution_count": 55
    }
   ],
   "source": [
    "iris_data[\"species\"].value_counts()"
   ],
   "metadata": {
    "collapsed": false,
    "pycharm": {
     "name": "#%%\n",
     "is_executing": false
    }
   }
  },
  {
   "cell_type": "code",
   "execution_count": 56,
   "outputs": [],
   "source": [
    "species_dict = {\n",
    "    'setosa' : \"Good\",\n",
    "    'virginica' : 'Average',\n",
    "    'versicolor' : 'Bad'\n",
    "}"
   ],
   "metadata": {
    "collapsed": false,
    "pycharm": {
     "name": "#%%\n",
     "is_executing": false
    }
   }
  },
  {
   "cell_type": "code",
   "execution_count": 57,
   "outputs": [
    {
     "data": {
      "text/plain": "   sepal_length  sepal_width  petal_length  petal_width species\n0           5.1          3.5           1.4          0.2    Good\n1           4.9          3.0           1.4          0.2    Good\n2           4.7          3.2           1.3          0.2    Good\n3           4.6          3.1           1.5          0.2    Good\n4           5.0          3.6           1.4          0.2    Good",
      "text/html": "<div>\n<style scoped>\n    .dataframe tbody tr th:only-of-type {\n        vertical-align: middle;\n    }\n\n    .dataframe tbody tr th {\n        vertical-align: top;\n    }\n\n    .dataframe thead th {\n        text-align: right;\n    }\n</style>\n<table border=\"1\" class=\"dataframe\">\n  <thead>\n    <tr style=\"text-align: right;\">\n      <th></th>\n      <th>sepal_length</th>\n      <th>sepal_width</th>\n      <th>petal_length</th>\n      <th>petal_width</th>\n      <th>species</th>\n    </tr>\n  </thead>\n  <tbody>\n    <tr>\n      <th>0</th>\n      <td>5.1</td>\n      <td>3.5</td>\n      <td>1.4</td>\n      <td>0.2</td>\n      <td>Good</td>\n    </tr>\n    <tr>\n      <th>1</th>\n      <td>4.9</td>\n      <td>3.0</td>\n      <td>1.4</td>\n      <td>0.2</td>\n      <td>Good</td>\n    </tr>\n    <tr>\n      <th>2</th>\n      <td>4.7</td>\n      <td>3.2</td>\n      <td>1.3</td>\n      <td>0.2</td>\n      <td>Good</td>\n    </tr>\n    <tr>\n      <th>3</th>\n      <td>4.6</td>\n      <td>3.1</td>\n      <td>1.5</td>\n      <td>0.2</td>\n      <td>Good</td>\n    </tr>\n    <tr>\n      <th>4</th>\n      <td>5.0</td>\n      <td>3.6</td>\n      <td>1.4</td>\n      <td>0.2</td>\n      <td>Good</td>\n    </tr>\n  </tbody>\n</table>\n</div>"
     },
     "metadata": {},
     "output_type": "execute_result",
     "execution_count": 57
    }
   ],
   "source": [
    "iris_data[\"species\"] = iris_data['species'].map(species_dict)\n",
    "iris_data.head()"
   ],
   "metadata": {
    "collapsed": false,
    "pycharm": {
     "name": "#%%\n",
     "is_executing": false
    }
   }
  },
  {
   "cell_type": "code",
   "execution_count": 58,
   "outputs": [
    {
     "data": {
      "text/plain": "Average    50\nBad        50\nGood       50\nName: species, dtype: int64"
     },
     "metadata": {},
     "output_type": "execute_result",
     "execution_count": 58
    }
   ],
   "source": [
    "iris_data['species'].value_counts()"
   ],
   "metadata": {
    "collapsed": false,
    "pycharm": {
     "name": "#%%\n",
     "is_executing": false
    }
   }
  },
  {
   "cell_type": "code",
   "execution_count": 60,
   "outputs": [
    {
     "data": {
      "text/plain": "0       True\n1       True\n2       True\n3       True\n4       True\n       ...  \n145    False\n146    False\n147    False\n148    False\n149    False\nName: species, Length: 150, dtype: bool"
     },
     "metadata": {},
     "output_type": "execute_result",
     "execution_count": 60
    }
   ],
   "source": [
    "iris_data['species'] == 'Good'"
   ],
   "metadata": {
    "collapsed": false,
    "pycharm": {
     "name": "#%%\n",
     "is_executing": false
    }
   }
  },
  {
   "cell_type": "code",
   "execution_count": 62,
   "outputs": [
    {
     "data": {
      "text/plain": "Int64Index([50, 51, 52, 53, 54, 55, 56, 57, 58, 59, 60, 61, 62, 63, 64, 65, 66,\n            67, 68, 69, 70, 71, 72, 73, 74, 75, 76, 77, 78, 79, 80, 81, 82, 83,\n            84, 85, 86, 87, 88, 89, 90, 91, 92, 93, 94, 95, 96, 97, 98, 99],\n           dtype='int64')"
     },
     "metadata": {},
     "output_type": "execute_result",
     "execution_count": 62
    }
   ],
   "source": [
    "iris_data.loc[iris_data['species'] == 'Bad'].index\n"
   ],
   "metadata": {
    "collapsed": false,
    "pycharm": {
     "name": "#%%\n",
     "is_executing": false
    }
   }
  }
 ],
 "metadata": {
  "language_info": {
   "codemirror_mode": {
    "name": "ipython",
    "version": 2
   },
   "file_extension": ".py",
   "mimetype": "text/x-python",
   "name": "python",
   "nbconvert_exporter": "python",
   "pygments_lexer": "ipython2",
   "version": "2.7.6"
  },
  "kernelspec": {
   "name": "python3",
   "language": "python",
   "display_name": "Python 3"
  },
  "pycharm": {
   "stem_cell": {
    "cell_type": "raw",
    "source": [],
    "metadata": {
     "collapsed": false
    }
   }
  }
 },
 "nbformat": 4,
 "nbformat_minor": 0
}